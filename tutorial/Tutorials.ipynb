{
 "cells": [
  {
   "cell_type": "code",
   "execution_count": null,
   "metadata": {},
   "outputs": [],
   "source": [
    "import os\n",
    "import numpy as np\n",
    "import igl\n",
    "\n",
    "import ipywidgets as widgets\n",
    "\n",
    "from viewer import *\n",
    "from plotly_viewer import *\n",
    "\n",
    "debug = False"
   ]
  },
  {
   "cell_type": "code",
   "execution_count": null,
   "metadata": {},
   "outputs": [],
   "source": [
    "root_path = os.path.join(os.getcwd(), \"./data/\")"
   ]
  },
  {
   "cell_type": "markdown",
   "metadata": {},
   "source": [
    "# Tutorial 101_FileIO.py"
   ]
  },
  {
   "cell_type": "code",
   "execution_count": null,
   "metadata": {},
   "outputs": [],
   "source": [
    "# Load a mesh in OFF format\n",
    "v, f, _ = igl.read_off(root_path + \"cube.off\", read_normals=True)\n",
    "\n",
    "# Print the vertices and faces matrices \n",
    "if debug:\n",
    "    print(\"Vertices: \\n\", v, sep='')\n",
    "    print(\"Faces: \\n\", f, sep='')\n",
    "\n",
    "# Save the mesh in OBJ format\n",
    "ret = igl.write_obj(root_path + \"cube.obj\", v, f)\n",
    "if debug:\n",
    "    print(ret)"
   ]
  },
  {
   "cell_type": "markdown",
   "metadata": {},
   "source": [
    "# Tutorial 102_DrawMesh.py"
   ]
  },
  {
   "cell_type": "code",
   "execution_count": null,
   "metadata": {},
   "outputs": [],
   "source": [
    "# Load a mesh in OFF format\n",
    "v, f, _ = igl.read_off(root_path + \"bunny.off\", read_normals=False)\n",
    "plot(v,f)"
   ]
  },
  {
   "cell_type": "markdown",
   "metadata": {},
   "source": [
    "# Tutorial 103_Events.py"
   ]
  },
  {
   "cell_type": "code",
   "execution_count": null,
   "metadata": {},
   "outputs": [],
   "source": [
    "def select(change):\n",
    "    if change[\"new\"] == 1:\n",
    "        #viewer.data().clear()\n",
    "        viewer.set_mesh(v1, f1)\n",
    "        #viewer.core.align_camera_center(V1,F1)\n",
    "    if change[\"new\"] == 2:\n",
    "        viewer.set_mesh(v2, f2)\n",
    "\n",
    "#  Load two meshes\n",
    "v1, f1, _ = igl.read_off(root_path + \"bumpy.off\", read_normals=False)\n",
    "v2, f2, _ = igl.read_off(root_path + \"fertility.off\",read_normals=False)\n",
    "\n",
    "viewer = Viewer()\n",
    "\n",
    "# Create a widget and assign callback to switch between the two loaded meshes\n",
    "viewer.add_widget(widgets.Dropdown(\n",
    "    options={'Bump Mesh': 1, 'Fertility Mesh': 2},\n",
    "    value=1,\n",
    "    description='Select Mesh',\n",
    "), select)\n",
    "\n",
    "viewer.set_mesh(v1, f1)\n",
    "viewer.launch()"
   ]
  },
  {
   "cell_type": "markdown",
   "metadata": {},
   "source": [
    "# Tutorial 104_Colors.py"
   ]
  },
  {
   "cell_type": "code",
   "execution_count": null,
   "metadata": {},
   "outputs": [],
   "source": [
    "# Load a mesh in OFF format\n",
    "v, f, _ = igl.read_off(root_path + \"screwdriver.off\")\n",
    "\n",
    "# Use the z coordinate as a scalar field over the surface\n",
    "z = v[:, 2]\n",
    "plot(v, f, z, 'Cividis')"
   ]
  },
  {
   "cell_type": "markdown",
   "metadata": {},
   "source": [
    "# Tutorial 105_Overlays.py"
   ]
  },
  {
   "cell_type": "code",
   "execution_count": null,
   "metadata": {},
   "outputs": [],
   "source": [
    "# Load a mesh in OFF format\n",
    "v, f, _ = igl.read_off(root_path + \"bunny.off\")\n",
    "\n",
    "# Find the bounding box\n",
    "m = np.min(v, axis=0)\n",
    "M = np.max(v, axis=0)\n",
    "\n",
    "# Corners of the bounding box\n",
    "v_box = np.array(\n",
    "    [\n",
    "        [m[0], m[1], m[2]],\n",
    "        [M[0], m[1], m[2]],\n",
    "        [M[0], M[1], m[2]],\n",
    "        [m[0], M[1], m[2]],\n",
    "        [m[0], m[1], M[2]],\n",
    "        [M[0], m[1], M[2]],\n",
    "        [M[0], M[1], M[2]],\n",
    "        [m[0], M[1], M[2]]\n",
    "    ]\n",
    ")\n",
    "\n",
    "f_box = np.array(\n",
    "        [\n",
    "            [0, 1],\n",
    "            [1, 2],\n",
    "            [2, 3],\n",
    "            [3, 0],\n",
    "            [4, 5],\n",
    "            [5, 6],\n",
    "            [6, 7],\n",
    "            [7, 4],\n",
    "            [0, 4],\n",
    "            [1, 5],\n",
    "            [2, 6],\n",
    "            [7, 3]\n",
    "        ]\n",
    ", dtype=np.int)\n",
    "\n",
    "# Plot the mesh\n",
    "# viewer = Viewer()\n",
    "# viewer.set_mesh(v, f)\n",
    "\n",
    "# Plot the corners of the bounding box as points\n",
    "# viewer.data().add_points(V_box, igl.eigen.MatrixXd([[1, 0, 0]]))\n",
    "\n",
    "# Plot the edges of the bounding box\n",
    "#for i in range(0, E_box.rows()):\n",
    "#    viewer.data().add_edges(\n",
    "#        V_box.row(E_box[i, 0]),\n",
    "#        V_box.row(E_box[i, 1]),\n",
    "#        igl.eigen.MatrixXd([[1, 0, 0]]))\n",
    "\n",
    "# Plot labels with the coordinates of bounding box vertices\n",
    "#l1 = 'x: ' + str(m[0, 0]) + ' y: ' + str(m[0, 1]) + ' z: ' + str(m[0, 2])\n",
    "#viewer.data().add_label(m.transpose(), l1)\n",
    "\n",
    "#l2 = 'x: ' + str(M[0, 0]) + ' y: ' + str(M[0, 1]) + ' z: ' + str(M[0, 2])\n",
    "#viewer.data().add_label(M.transpose(), l2)\n",
    "\n",
    "# Launch the viewer\n",
    "# viewer.launch()\n",
    "plot(v, f)"
   ]
  },
  {
   "cell_type": "code",
   "execution_count": null,
   "metadata": {},
   "outputs": [],
   "source": [
    "# Tutorial 106_ViewerMenu.py\n",
    "\n",
    "# Needs support for GUI elements"
   ]
  },
  {
   "cell_type": "code",
   "execution_count": null,
   "metadata": {},
   "outputs": [],
   "source": [
    "# Tutorial 107_MultipleMeshes.py\n",
    "\n",
    "# Needs refactoring of data element in viewer. Idea is to store a list of data which is rendered in the viewer"
   ]
  },
  {
   "cell_type": "code",
   "execution_count": null,
   "metadata": {},
   "outputs": [],
   "source": [
    "# Tutorial 201_Normals.py\n",
    "\n",
    "# Needs different normal rendering support in Viewer"
   ]
  },
  {
   "cell_type": "markdown",
   "metadata": {},
   "source": [
    "# Tutorial 202_GaussianCurvature.py"
   ]
  },
  {
   "cell_type": "code",
   "execution_count": null,
   "metadata": {},
   "outputs": [],
   "source": [
    "# Load mesh\n",
    "v, f, _ = igl.read_off(root_path + \"bumpy.off\")\n",
    "\n",
    "# Compute Gaussian curvature\n",
    "k = igl.gaussian_curvature(v, f)\n",
    "plot(v, f, k)"
   ]
  },
  {
   "cell_type": "markdown",
   "metadata": {},
   "source": [
    "# Tutorial 203_CurvatureDirections.py"
   ]
  },
  {
   "cell_type": "code",
   "execution_count": null,
   "metadata": {},
   "outputs": [],
   "source": [
    "# Load mesh\n",
    "v, f, _ = igl.read_off(root_path + \"fertility.off\")\n",
    "\n",
    "# Compute curvature directions via quadric fitting\n",
    "pd1, pd2, pv1, pv2 = igl.principal_curvature(v, f)\n",
    "\n",
    "# Mean curvature\n",
    "h = 0.5 * (pv1 + pv2)\n",
    "\n",
    "plot(v, f, h, 'Electric')"
   ]
  },
  {
   "cell_type": "markdown",
   "metadata": {},
   "source": [
    "# Tutorial 604_Triangle.py"
   ]
  },
  {
   "cell_type": "code",
   "execution_count": null,
   "metadata": {},
   "outputs": [],
   "source": [
    "# Input polygon\n",
    "v = np.array([[-1.0, -1.0], [1, -1], [1, 1], [-1, 1], [-2, -2], [2, -2], [2, 2], [-2, 2]])\n",
    "e = np.array([[0, 1], [1, 2], [2, 3], [3, 0], [4, 5], [5, 6], [6,7], [7,4]], dtype=np.int32)\n",
    "h = np.array([[0.0, 0.0]])\n",
    "\n",
    "v, f = igl.triangulate(v, e, h, flags=\"a0.05q\")\n",
    "plot(v, f)"
   ]
  },
  {
   "cell_type": "code",
   "execution_count": null,
   "metadata": {},
   "outputs": [],
   "source": []
  }
 ],
 "metadata": {
  "kernelspec": {
   "display_name": "Python 3",
   "language": "python",
   "name": "python3"
  },
  "language_info": {
   "codemirror_mode": {
    "name": "ipython",
    "version": 3
   },
   "file_extension": ".py",
   "mimetype": "text/x-python",
   "name": "python",
   "nbconvert_exporter": "python",
   "pygments_lexer": "ipython3",
   "version": "3.6.7"
  }
 },
 "nbformat": 4,
 "nbformat_minor": 2
}
